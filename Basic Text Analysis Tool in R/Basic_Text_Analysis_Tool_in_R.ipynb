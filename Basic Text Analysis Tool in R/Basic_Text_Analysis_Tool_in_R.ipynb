{
  "nbformat": 4,
  "nbformat_minor": 0,
  "metadata": {
    "colab": {
      "provenance": []
    },
    "kernelspec": {
      "name": "ir",
      "display_name": "R"
    },
    "language_info": {
      "name": "R"
    }
  },
  "cells": [
    {
      "cell_type": "code",
      "source": [
        "# Function to calculate basic text statistics\n",
        "calculate_text_statistics <- function(text) {\n",
        "  # Convert text to lowercase\n",
        "  text <- tolower(text)\n",
        "\n",
        "  # Remove punctuation\n",
        "  text <- gsub(\"[[:punct:]]\", \"\", text)\n",
        "\n",
        "  # Tokenize text into words\n",
        "  words <- unlist(strsplit(text, \"\\\\s+\"))\n",
        "\n",
        "  # Calculate word count\n",
        "  word_count <- length(words)\n",
        "\n",
        "  # Calculate character count\n",
        "  character_count <- nchar(text)\n",
        "\n",
        "  # Calculate average word length\n",
        "  average_word_length <- mean(nchar(words))\n",
        "\n",
        "  # Find the most frequent words and their frequencies\n",
        "  word_freq <- table(words)\n",
        "  top_words <- names(head(sort(word_freq, decreasing = TRUE), 5))\n",
        "\n",
        "  # Return results\n",
        "  results <- list(word_count = word_count,\n",
        "                  character_count = character_count,\n",
        "                  average_word_length = average_word_length,\n",
        "                  top_words = top_words)\n",
        "\n",
        "  return(results)\n",
        "}"
      ],
      "metadata": {
        "id": "GedXZeB20CJH"
      },
      "execution_count": 6,
      "outputs": []
    },
    {
      "cell_type": "code",
      "source": [
        "# Function to display text statistics\n",
        "display_text_statistics <- function(results) {\n",
        "  cat(\"=== Text Statistics ===\\n\")\n",
        "  cat(\"Word count:\", results$word_count, \"\\n\")\n",
        "  cat(\"Character count:\", results$character_count, \"\\n\")\n",
        "  cat(\"Average word length:\", round(results$average_word_length, 2), \"\\n\")\n",
        "  cat(\"Top 5 most frequent words:\", paste(results$top_words, collapse = \", \"), \"\\n\")\n",
        "}"
      ],
      "metadata": {
        "id": "fxmEzQBi7agH"
      },
      "execution_count": 7,
      "outputs": []
    },
    {
      "cell_type": "code",
      "source": [
        "# Main function\n",
        "main <- function() {\n",
        "  cat(\"Enter the text to analyze:\\n\")\n",
        "  text <- readline()\n",
        "  results <- calculate_text_statistics(text)\n",
        "  display_text_statistics(results)\n",
        "}\n",
        "\n",
        "# Run the main function\n",
        "main()"
      ],
      "metadata": {
        "colab": {
          "base_uri": "https://localhost:8080/"
        },
        "id": "YMjCNLLB7eyB",
        "outputId": "0f6cff1b-1b85-473e-f65c-9e9a904bf1cf"
      },
      "execution_count": 10,
      "outputs": [
        {
          "output_type": "stream",
          "name": "stdout",
          "text": [
            "The free strings loops, samples and sounds listed here have been kindly uploaded by other users. If you use any of these strings loops please leave your comments.\n",
            "Enter the text to analyze:\n",
            "=== Text Statistics ===\n",
            "Word count: 28 \n",
            "Character count: 159 \n",
            "Average word length: 4.71 \n",
            "Top 5 most frequent words: loops, strings, and, any, been \n"
          ]
        }
      ]
    },
    {
      "cell_type": "code",
      "source": [],
      "metadata": {
        "id": "corM60rn735t"
      },
      "execution_count": null,
      "outputs": []
    }
  ]
}