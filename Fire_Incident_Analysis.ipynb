{
  "nbformat": 4,
  "nbformat_minor": 0,
  "metadata": {
    "colab": {
      "provenance": [],
      "mount_file_id": "1-Tbxd1kZaoAp4Teof3UtKh7xN5NxKfqV",
      "authorship_tag": "ABX9TyOCCH+49QQicRYvZ+3AFjPj",
      "include_colab_link": true
    },
    "kernelspec": {
      "name": "python3",
      "display_name": "Python 3"
    },
    "language_info": {
      "name": "python"
    }
  },
  "cells": [
    {
      "cell_type": "markdown",
      "metadata": {
        "id": "view-in-github",
        "colab_type": "text"
      },
      "source": [
        "<a href=\"https://colab.research.google.com/github/HarshithVijay/Projects/blob/main/Fire_Incident_Analysis.ipynb\" target=\"_parent\"><img src=\"https://colab.research.google.com/assets/colab-badge.svg\" alt=\"Open In Colab\"/></a>"
      ]
    },
    {
      "cell_type": "code",
      "execution_count": 1,
      "metadata": {
        "colab": {
          "base_uri": "https://localhost:8080/"
        },
        "id": "V4YSmR5ZF32w",
        "outputId": "ef2541b4-3990-4cdf-b16f-2a53c97a065f"
      },
      "outputs": [
        {
          "output_type": "stream",
          "name": "stdout",
          "text": [
            "Collecting shap\n",
            "  Downloading shap-0.45.1-cp310-cp310-manylinux_2_12_x86_64.manylinux2010_x86_64.manylinux_2_17_x86_64.manylinux2014_x86_64.whl (540 kB)\n",
            "\u001b[?25l     \u001b[90m━━━━━━━━━━━━━━━━━━━━━━━━━━━━━━━━━━━━━━━━\u001b[0m \u001b[32m0.0/540.5 kB\u001b[0m \u001b[31m?\u001b[0m eta \u001b[36m-:--:--\u001b[0m\r\u001b[2K     \u001b[91m━━━━━━━━━━━━━━━━━━━━\u001b[0m\u001b[90m╺\u001b[0m\u001b[90m━━━━━━━━━━━━━━━━━━━\u001b[0m \u001b[32m276.5/540.5 kB\u001b[0m \u001b[31m8.2 MB/s\u001b[0m eta \u001b[36m0:00:01\u001b[0m\r\u001b[2K     \u001b[90m━━━━━━━━━━━━━━━━━━━━━━━━━━━━━━━━━━━━━━━━\u001b[0m \u001b[32m540.5/540.5 kB\u001b[0m \u001b[31m10.4 MB/s\u001b[0m eta \u001b[36m0:00:00\u001b[0m\n",
            "\u001b[?25hRequirement already satisfied: numpy in /usr/local/lib/python3.10/dist-packages (from shap) (1.25.2)\n",
            "Requirement already satisfied: scipy in /usr/local/lib/python3.10/dist-packages (from shap) (1.11.4)\n",
            "Requirement already satisfied: scikit-learn in /usr/local/lib/python3.10/dist-packages (from shap) (1.2.2)\n",
            "Requirement already satisfied: pandas in /usr/local/lib/python3.10/dist-packages (from shap) (2.0.3)\n",
            "Requirement already satisfied: tqdm>=4.27.0 in /usr/local/lib/python3.10/dist-packages (from shap) (4.66.4)\n",
            "Requirement already satisfied: packaging>20.9 in /usr/local/lib/python3.10/dist-packages (from shap) (24.1)\n",
            "Collecting slicer==0.0.8 (from shap)\n",
            "  Downloading slicer-0.0.8-py3-none-any.whl (15 kB)\n",
            "Requirement already satisfied: numba in /usr/local/lib/python3.10/dist-packages (from shap) (0.58.1)\n",
            "Requirement already satisfied: cloudpickle in /usr/local/lib/python3.10/dist-packages (from shap) (2.2.1)\n",
            "Requirement already satisfied: llvmlite<0.42,>=0.41.0dev0 in /usr/local/lib/python3.10/dist-packages (from numba->shap) (0.41.1)\n",
            "Requirement already satisfied: python-dateutil>=2.8.2 in /usr/local/lib/python3.10/dist-packages (from pandas->shap) (2.8.2)\n",
            "Requirement already satisfied: pytz>=2020.1 in /usr/local/lib/python3.10/dist-packages (from pandas->shap) (2023.4)\n",
            "Requirement already satisfied: tzdata>=2022.1 in /usr/local/lib/python3.10/dist-packages (from pandas->shap) (2024.1)\n",
            "Requirement already satisfied: joblib>=1.1.1 in /usr/local/lib/python3.10/dist-packages (from scikit-learn->shap) (1.4.2)\n",
            "Requirement already satisfied: threadpoolctl>=2.0.0 in /usr/local/lib/python3.10/dist-packages (from scikit-learn->shap) (3.5.0)\n",
            "Requirement already satisfied: six>=1.5 in /usr/local/lib/python3.10/dist-packages (from python-dateutil>=2.8.2->pandas->shap) (1.16.0)\n",
            "Installing collected packages: slicer, shap\n",
            "Successfully installed shap-0.45.1 slicer-0.0.8\n"
          ]
        }
      ],
      "source": [
        "pip install shap"
      ]
    },
    {
      "cell_type": "code",
      "source": [
        "import pandas as pd\n",
        "import numpy as np\n",
        "from sklearn.model_selection import train_test_split, GridSearchCV\n",
        "from sklearn.preprocessing import StandardScaler\n",
        "from sklearn.ensemble import RandomForestClassifier\n",
        "from sklearn.metrics import classification_report, confusion_matrix, roc_auc_score\n",
        "import matplotlib.pyplot as plt\n",
        "import seaborn as sns\n",
        "import shap"
      ],
      "metadata": {
        "id": "aJoQ3rRBGKw8"
      },
      "execution_count": 2,
      "outputs": []
    },
    {
      "cell_type": "code",
      "source": [
        "# Load the data\n",
        "data = pd.read_csv('/content/drive/MyDrive/Fire/Fire-Incidents.csv')\n",
        "data.head()"
      ],
      "metadata": {
        "colab": {
          "base_uri": "https://localhost:8080/",
          "height": 446
        },
        "id": "lGYFYmefGMfN",
        "outputId": "80cfa657-8cbd-4831-9211-97e680f74bbe"
      },
      "execution_count": 3,
      "outputs": [
        {
          "output_type": "execute_result",
          "data": {
            "text/plain": [
              "                                      Area_of_Origin  \\\n",
              "0                                   Porch or Balcony   \n",
              "1                            Cooking Area or Kitchen   \n",
              "2     Living Area (e.g. living, TV, recreation, etc)   \n",
              "3                        Undetermined  (formerly 98)   \n",
              "4  Sleeping Area or Bedroom (inc. patients room, ...   \n",
              "\n",
              "                   Business_Impact  Civilian_Casualties  \\\n",
              "0         No business interruption                    0   \n",
              "1                     Undetermined                    0   \n",
              "2  Not applicable (not a business)                    1   \n",
              "3        May not resume operations                    0   \n",
              "4  Not applicable (not a business)                    8   \n",
              "\n",
              "   Count_of_Persons_Rescued  Estimated_Dollar_Loss  \\\n",
              "0                        86                   3000   \n",
              "1                        28                  50000   \n",
              "2                        16                1000000   \n",
              "3                        12                1000000   \n",
              "4                        11                 125000   \n",
              "\n",
              "   Estimated_Number_Of_Persons_Displaced Ext_agent_app_or_defer_time  \\\n",
              "0                                      0         2018-08-24T17:06:26   \n",
              "1                                     28         2018-11-24T07:19:00   \n",
              "2                                    130         2017-02-09T18:02:13   \n",
              "3                                     14         2012-10-30T00:52:04   \n",
              "4                                      2         2018-07-08T04:35:00   \n",
              "\n",
              "                             Extent_Of_Fire  \\\n",
              "0              Confined to object of origin   \n",
              "1   Confined to part of room/area of origin   \n",
              "2  Spread beyond room of origin, same floor   \n",
              "3                          Entire Structure   \n",
              "4  Spread beyond room of origin, same floor   \n",
              "\n",
              "              Fire_Alarm_System_Impact_on_Evacuation  \\\n",
              "0  Not applicable: Occupant(s) first alerted by o...   \n",
              "1  Not applicable: Occupant(s) first alerted by o...   \n",
              "2  Some persons (at risk) evacuated as a result o...   \n",
              "3                                       Undetermined   \n",
              "4  Some persons (at risk) evacuated as a result o...   \n",
              "\n",
              "                Fire_Alarm_System_Operation  ...  Longitude  \\\n",
              "0         Fire alarm system did not operate  ... -79.412479   \n",
              "1                Fire alarm system operated  ... -79.530419   \n",
              "2                Fire alarm system operated  ... -79.373460   \n",
              "3  Fire alarm system operation undetermined  ... -79.393700   \n",
              "4                Fire alarm system operated  ... -79.511539   \n",
              "\n",
              "       Material_First_Ignited           Method_Of_Fire_Control  \\\n",
              "0  Undetermined (formerly 98)  Extinguished by fire department   \n",
              "1                     Plastic         Extinguished by occupant   \n",
              "2  Undetermined (formerly 98)  Extinguished by fire department   \n",
              "3  Undetermined (formerly 98)  Extinguished by fire department   \n",
              "4                     Bedding  Extinguished by fire department   \n",
              "\n",
              "        Possible_Cause                         Property_Use  \\\n",
              "0         Undetermined  Multi-Unit Dwelling - Over 12 Units   \n",
              "1  Under Investigation                            Infirmary   \n",
              "2         Undetermined  Multi-Unit Dwelling - Over 12 Units   \n",
              "3         Undetermined     Clothing Store, Accessories, fur   \n",
              "4      Suspected Arson  Multi-Unit Dwelling - Over 12 Units   \n",
              "\n",
              "            Smoke_Alarm_at_Fire_Origin_Alarm_Failure  \\\n",
              "0  Not applicable: Alarm operated OR presence/ope...   \n",
              "1  Not applicable: Alarm operated OR presence/ope...   \n",
              "2  Not applicable: Alarm operated OR presence/ope...   \n",
              "3  Not applicable: Alarm operated OR presence/ope...   \n",
              "4  Not applicable: Alarm operated OR presence/ope...   \n",
              "\n",
              "   Smoke_Alarm_at_Fire_Origin_Alarm_Type  \\\n",
              "0                 Hardwired (standalone)   \n",
              "1                         Interconnected   \n",
              "2                 Hardwired (standalone)   \n",
              "3                      Type undetermined   \n",
              "4                         Interconnected   \n",
              "\n",
              "                           Status_of_Fire_On_Arrival       TFS_Alarm_Time  \\\n",
              "0  Fire with smoke showing only - including vehic...  2018-08-24T16:49:36   \n",
              "1                 Fire extinguished prior to arrival  2018-11-24T07:09:12   \n",
              "2  Flames showing from small area (one storey or ...  2017-02-09T17:45:07   \n",
              "3  Flames showing from large area (more than one ...  2012-10-30T00:42:01   \n",
              "4                  Fire with no evidence from street  2018-07-08T04:08:50   \n",
              "\n",
              "      TFS_Arrival_Time  \n",
              "0  2018-08-24T16:54:09  \n",
              "1  2018-11-24T07:14:23  \n",
              "2  2017-02-09T17:48:49  \n",
              "3  2012-10-30T00:44:58  \n",
              "4  2018-07-08T04:13:54  \n",
              "\n",
              "[5 rows x 27 columns]"
            ],
            "text/html": [
              "\n",
              "  <div id=\"df-01938322-ebef-4a5c-beea-4c2b083bf39c\" class=\"colab-df-container\">\n",
              "    <div>\n",
              "<style scoped>\n",
              "    .dataframe tbody tr th:only-of-type {\n",
              "        vertical-align: middle;\n",
              "    }\n",
              "\n",
              "    .dataframe tbody tr th {\n",
              "        vertical-align: top;\n",
              "    }\n",
              "\n",
              "    .dataframe thead th {\n",
              "        text-align: right;\n",
              "    }\n",
              "</style>\n",
              "<table border=\"1\" class=\"dataframe\">\n",
              "  <thead>\n",
              "    <tr style=\"text-align: right;\">\n",
              "      <th></th>\n",
              "      <th>Area_of_Origin</th>\n",
              "      <th>Business_Impact</th>\n",
              "      <th>Civilian_Casualties</th>\n",
              "      <th>Count_of_Persons_Rescued</th>\n",
              "      <th>Estimated_Dollar_Loss</th>\n",
              "      <th>Estimated_Number_Of_Persons_Displaced</th>\n",
              "      <th>Ext_agent_app_or_defer_time</th>\n",
              "      <th>Extent_Of_Fire</th>\n",
              "      <th>Fire_Alarm_System_Impact_on_Evacuation</th>\n",
              "      <th>Fire_Alarm_System_Operation</th>\n",
              "      <th>...</th>\n",
              "      <th>Longitude</th>\n",
              "      <th>Material_First_Ignited</th>\n",
              "      <th>Method_Of_Fire_Control</th>\n",
              "      <th>Possible_Cause</th>\n",
              "      <th>Property_Use</th>\n",
              "      <th>Smoke_Alarm_at_Fire_Origin_Alarm_Failure</th>\n",
              "      <th>Smoke_Alarm_at_Fire_Origin_Alarm_Type</th>\n",
              "      <th>Status_of_Fire_On_Arrival</th>\n",
              "      <th>TFS_Alarm_Time</th>\n",
              "      <th>TFS_Arrival_Time</th>\n",
              "    </tr>\n",
              "  </thead>\n",
              "  <tbody>\n",
              "    <tr>\n",
              "      <th>0</th>\n",
              "      <td>Porch or Balcony</td>\n",
              "      <td>No business interruption</td>\n",
              "      <td>0</td>\n",
              "      <td>86</td>\n",
              "      <td>3000</td>\n",
              "      <td>0</td>\n",
              "      <td>2018-08-24T17:06:26</td>\n",
              "      <td>Confined to object of origin</td>\n",
              "      <td>Not applicable: Occupant(s) first alerted by o...</td>\n",
              "      <td>Fire alarm system did not operate</td>\n",
              "      <td>...</td>\n",
              "      <td>-79.412479</td>\n",
              "      <td>Undetermined (formerly 98)</td>\n",
              "      <td>Extinguished by fire department</td>\n",
              "      <td>Undetermined</td>\n",
              "      <td>Multi-Unit Dwelling - Over 12 Units</td>\n",
              "      <td>Not applicable: Alarm operated OR presence/ope...</td>\n",
              "      <td>Hardwired (standalone)</td>\n",
              "      <td>Fire with smoke showing only - including vehic...</td>\n",
              "      <td>2018-08-24T16:49:36</td>\n",
              "      <td>2018-08-24T16:54:09</td>\n",
              "    </tr>\n",
              "    <tr>\n",
              "      <th>1</th>\n",
              "      <td>Cooking Area or Kitchen</td>\n",
              "      <td>Undetermined</td>\n",
              "      <td>0</td>\n",
              "      <td>28</td>\n",
              "      <td>50000</td>\n",
              "      <td>28</td>\n",
              "      <td>2018-11-24T07:19:00</td>\n",
              "      <td>Confined to part of room/area of origin</td>\n",
              "      <td>Not applicable: Occupant(s) first alerted by o...</td>\n",
              "      <td>Fire alarm system operated</td>\n",
              "      <td>...</td>\n",
              "      <td>-79.530419</td>\n",
              "      <td>Plastic</td>\n",
              "      <td>Extinguished by occupant</td>\n",
              "      <td>Under Investigation</td>\n",
              "      <td>Infirmary</td>\n",
              "      <td>Not applicable: Alarm operated OR presence/ope...</td>\n",
              "      <td>Interconnected</td>\n",
              "      <td>Fire extinguished prior to arrival</td>\n",
              "      <td>2018-11-24T07:09:12</td>\n",
              "      <td>2018-11-24T07:14:23</td>\n",
              "    </tr>\n",
              "    <tr>\n",
              "      <th>2</th>\n",
              "      <td>Living Area (e.g. living, TV, recreation, etc)</td>\n",
              "      <td>Not applicable (not a business)</td>\n",
              "      <td>1</td>\n",
              "      <td>16</td>\n",
              "      <td>1000000</td>\n",
              "      <td>130</td>\n",
              "      <td>2017-02-09T18:02:13</td>\n",
              "      <td>Spread beyond room of origin, same floor</td>\n",
              "      <td>Some persons (at risk) evacuated as a result o...</td>\n",
              "      <td>Fire alarm system operated</td>\n",
              "      <td>...</td>\n",
              "      <td>-79.373460</td>\n",
              "      <td>Undetermined (formerly 98)</td>\n",
              "      <td>Extinguished by fire department</td>\n",
              "      <td>Undetermined</td>\n",
              "      <td>Multi-Unit Dwelling - Over 12 Units</td>\n",
              "      <td>Not applicable: Alarm operated OR presence/ope...</td>\n",
              "      <td>Hardwired (standalone)</td>\n",
              "      <td>Flames showing from small area (one storey or ...</td>\n",
              "      <td>2017-02-09T17:45:07</td>\n",
              "      <td>2017-02-09T17:48:49</td>\n",
              "    </tr>\n",
              "    <tr>\n",
              "      <th>3</th>\n",
              "      <td>Undetermined  (formerly 98)</td>\n",
              "      <td>May not resume operations</td>\n",
              "      <td>0</td>\n",
              "      <td>12</td>\n",
              "      <td>1000000</td>\n",
              "      <td>14</td>\n",
              "      <td>2012-10-30T00:52:04</td>\n",
              "      <td>Entire Structure</td>\n",
              "      <td>Undetermined</td>\n",
              "      <td>Fire alarm system operation undetermined</td>\n",
              "      <td>...</td>\n",
              "      <td>-79.393700</td>\n",
              "      <td>Undetermined (formerly 98)</td>\n",
              "      <td>Extinguished by fire department</td>\n",
              "      <td>Undetermined</td>\n",
              "      <td>Clothing Store, Accessories, fur</td>\n",
              "      <td>Not applicable: Alarm operated OR presence/ope...</td>\n",
              "      <td>Type undetermined</td>\n",
              "      <td>Flames showing from large area (more than one ...</td>\n",
              "      <td>2012-10-30T00:42:01</td>\n",
              "      <td>2012-10-30T00:44:58</td>\n",
              "    </tr>\n",
              "    <tr>\n",
              "      <th>4</th>\n",
              "      <td>Sleeping Area or Bedroom (inc. patients room, ...</td>\n",
              "      <td>Not applicable (not a business)</td>\n",
              "      <td>8</td>\n",
              "      <td>11</td>\n",
              "      <td>125000</td>\n",
              "      <td>2</td>\n",
              "      <td>2018-07-08T04:35:00</td>\n",
              "      <td>Spread beyond room of origin, same floor</td>\n",
              "      <td>Some persons (at risk) evacuated as a result o...</td>\n",
              "      <td>Fire alarm system operated</td>\n",
              "      <td>...</td>\n",
              "      <td>-79.511539</td>\n",
              "      <td>Bedding</td>\n",
              "      <td>Extinguished by fire department</td>\n",
              "      <td>Suspected Arson</td>\n",
              "      <td>Multi-Unit Dwelling - Over 12 Units</td>\n",
              "      <td>Not applicable: Alarm operated OR presence/ope...</td>\n",
              "      <td>Interconnected</td>\n",
              "      <td>Fire with no evidence from street</td>\n",
              "      <td>2018-07-08T04:08:50</td>\n",
              "      <td>2018-07-08T04:13:54</td>\n",
              "    </tr>\n",
              "  </tbody>\n",
              "</table>\n",
              "<p>5 rows × 27 columns</p>\n",
              "</div>\n",
              "    <div class=\"colab-df-buttons\">\n",
              "\n",
              "  <div class=\"colab-df-container\">\n",
              "    <button class=\"colab-df-convert\" onclick=\"convertToInteractive('df-01938322-ebef-4a5c-beea-4c2b083bf39c')\"\n",
              "            title=\"Convert this dataframe to an interactive table.\"\n",
              "            style=\"display:none;\">\n",
              "\n",
              "  <svg xmlns=\"http://www.w3.org/2000/svg\" height=\"24px\" viewBox=\"0 -960 960 960\">\n",
              "    <path d=\"M120-120v-720h720v720H120Zm60-500h600v-160H180v160Zm220 220h160v-160H400v160Zm0 220h160v-160H400v160ZM180-400h160v-160H180v160Zm440 0h160v-160H620v160ZM180-180h160v-160H180v160Zm440 0h160v-160H620v160Z\"/>\n",
              "  </svg>\n",
              "    </button>\n",
              "\n",
              "  <style>\n",
              "    .colab-df-container {\n",
              "      display:flex;\n",
              "      gap: 12px;\n",
              "    }\n",
              "\n",
              "    .colab-df-convert {\n",
              "      background-color: #E8F0FE;\n",
              "      border: none;\n",
              "      border-radius: 50%;\n",
              "      cursor: pointer;\n",
              "      display: none;\n",
              "      fill: #1967D2;\n",
              "      height: 32px;\n",
              "      padding: 0 0 0 0;\n",
              "      width: 32px;\n",
              "    }\n",
              "\n",
              "    .colab-df-convert:hover {\n",
              "      background-color: #E2EBFA;\n",
              "      box-shadow: 0px 1px 2px rgba(60, 64, 67, 0.3), 0px 1px 3px 1px rgba(60, 64, 67, 0.15);\n",
              "      fill: #174EA6;\n",
              "    }\n",
              "\n",
              "    .colab-df-buttons div {\n",
              "      margin-bottom: 4px;\n",
              "    }\n",
              "\n",
              "    [theme=dark] .colab-df-convert {\n",
              "      background-color: #3B4455;\n",
              "      fill: #D2E3FC;\n",
              "    }\n",
              "\n",
              "    [theme=dark] .colab-df-convert:hover {\n",
              "      background-color: #434B5C;\n",
              "      box-shadow: 0px 1px 3px 1px rgba(0, 0, 0, 0.15);\n",
              "      filter: drop-shadow(0px 1px 2px rgba(0, 0, 0, 0.3));\n",
              "      fill: #FFFFFF;\n",
              "    }\n",
              "  </style>\n",
              "\n",
              "    <script>\n",
              "      const buttonEl =\n",
              "        document.querySelector('#df-01938322-ebef-4a5c-beea-4c2b083bf39c button.colab-df-convert');\n",
              "      buttonEl.style.display =\n",
              "        google.colab.kernel.accessAllowed ? 'block' : 'none';\n",
              "\n",
              "      async function convertToInteractive(key) {\n",
              "        const element = document.querySelector('#df-01938322-ebef-4a5c-beea-4c2b083bf39c');\n",
              "        const dataTable =\n",
              "          await google.colab.kernel.invokeFunction('convertToInteractive',\n",
              "                                                    [key], {});\n",
              "        if (!dataTable) return;\n",
              "\n",
              "        const docLinkHtml = 'Like what you see? Visit the ' +\n",
              "          '<a target=\"_blank\" href=https://colab.research.google.com/notebooks/data_table.ipynb>data table notebook</a>'\n",
              "          + ' to learn more about interactive tables.';\n",
              "        element.innerHTML = '';\n",
              "        dataTable['output_type'] = 'display_data';\n",
              "        await google.colab.output.renderOutput(dataTable, element);\n",
              "        const docLink = document.createElement('div');\n",
              "        docLink.innerHTML = docLinkHtml;\n",
              "        element.appendChild(docLink);\n",
              "      }\n",
              "    </script>\n",
              "  </div>\n",
              "\n",
              "\n",
              "<div id=\"df-8eb983c7-bf0c-4658-8c18-940f66259526\">\n",
              "  <button class=\"colab-df-quickchart\" onclick=\"quickchart('df-8eb983c7-bf0c-4658-8c18-940f66259526')\"\n",
              "            title=\"Suggest charts\"\n",
              "            style=\"display:none;\">\n",
              "\n",
              "<svg xmlns=\"http://www.w3.org/2000/svg\" height=\"24px\"viewBox=\"0 0 24 24\"\n",
              "     width=\"24px\">\n",
              "    <g>\n",
              "        <path d=\"M19 3H5c-1.1 0-2 .9-2 2v14c0 1.1.9 2 2 2h14c1.1 0 2-.9 2-2V5c0-1.1-.9-2-2-2zM9 17H7v-7h2v7zm4 0h-2V7h2v10zm4 0h-2v-4h2v4z\"/>\n",
              "    </g>\n",
              "</svg>\n",
              "  </button>\n",
              "\n",
              "<style>\n",
              "  .colab-df-quickchart {\n",
              "      --bg-color: #E8F0FE;\n",
              "      --fill-color: #1967D2;\n",
              "      --hover-bg-color: #E2EBFA;\n",
              "      --hover-fill-color: #174EA6;\n",
              "      --disabled-fill-color: #AAA;\n",
              "      --disabled-bg-color: #DDD;\n",
              "  }\n",
              "\n",
              "  [theme=dark] .colab-df-quickchart {\n",
              "      --bg-color: #3B4455;\n",
              "      --fill-color: #D2E3FC;\n",
              "      --hover-bg-color: #434B5C;\n",
              "      --hover-fill-color: #FFFFFF;\n",
              "      --disabled-bg-color: #3B4455;\n",
              "      --disabled-fill-color: #666;\n",
              "  }\n",
              "\n",
              "  .colab-df-quickchart {\n",
              "    background-color: var(--bg-color);\n",
              "    border: none;\n",
              "    border-radius: 50%;\n",
              "    cursor: pointer;\n",
              "    display: none;\n",
              "    fill: var(--fill-color);\n",
              "    height: 32px;\n",
              "    padding: 0;\n",
              "    width: 32px;\n",
              "  }\n",
              "\n",
              "  .colab-df-quickchart:hover {\n",
              "    background-color: var(--hover-bg-color);\n",
              "    box-shadow: 0 1px 2px rgba(60, 64, 67, 0.3), 0 1px 3px 1px rgba(60, 64, 67, 0.15);\n",
              "    fill: var(--button-hover-fill-color);\n",
              "  }\n",
              "\n",
              "  .colab-df-quickchart-complete:disabled,\n",
              "  .colab-df-quickchart-complete:disabled:hover {\n",
              "    background-color: var(--disabled-bg-color);\n",
              "    fill: var(--disabled-fill-color);\n",
              "    box-shadow: none;\n",
              "  }\n",
              "\n",
              "  .colab-df-spinner {\n",
              "    border: 2px solid var(--fill-color);\n",
              "    border-color: transparent;\n",
              "    border-bottom-color: var(--fill-color);\n",
              "    animation:\n",
              "      spin 1s steps(1) infinite;\n",
              "  }\n",
              "\n",
              "  @keyframes spin {\n",
              "    0% {\n",
              "      border-color: transparent;\n",
              "      border-bottom-color: var(--fill-color);\n",
              "      border-left-color: var(--fill-color);\n",
              "    }\n",
              "    20% {\n",
              "      border-color: transparent;\n",
              "      border-left-color: var(--fill-color);\n",
              "      border-top-color: var(--fill-color);\n",
              "    }\n",
              "    30% {\n",
              "      border-color: transparent;\n",
              "      border-left-color: var(--fill-color);\n",
              "      border-top-color: var(--fill-color);\n",
              "      border-right-color: var(--fill-color);\n",
              "    }\n",
              "    40% {\n",
              "      border-color: transparent;\n",
              "      border-right-color: var(--fill-color);\n",
              "      border-top-color: var(--fill-color);\n",
              "    }\n",
              "    60% {\n",
              "      border-color: transparent;\n",
              "      border-right-color: var(--fill-color);\n",
              "    }\n",
              "    80% {\n",
              "      border-color: transparent;\n",
              "      border-right-color: var(--fill-color);\n",
              "      border-bottom-color: var(--fill-color);\n",
              "    }\n",
              "    90% {\n",
              "      border-color: transparent;\n",
              "      border-bottom-color: var(--fill-color);\n",
              "    }\n",
              "  }\n",
              "</style>\n",
              "\n",
              "  <script>\n",
              "    async function quickchart(key) {\n",
              "      const quickchartButtonEl =\n",
              "        document.querySelector('#' + key + ' button');\n",
              "      quickchartButtonEl.disabled = true;  // To prevent multiple clicks.\n",
              "      quickchartButtonEl.classList.add('colab-df-spinner');\n",
              "      try {\n",
              "        const charts = await google.colab.kernel.invokeFunction(\n",
              "            'suggestCharts', [key], {});\n",
              "      } catch (error) {\n",
              "        console.error('Error during call to suggestCharts:', error);\n",
              "      }\n",
              "      quickchartButtonEl.classList.remove('colab-df-spinner');\n",
              "      quickchartButtonEl.classList.add('colab-df-quickchart-complete');\n",
              "    }\n",
              "    (() => {\n",
              "      let quickchartButtonEl =\n",
              "        document.querySelector('#df-8eb983c7-bf0c-4658-8c18-940f66259526 button');\n",
              "      quickchartButtonEl.style.display =\n",
              "        google.colab.kernel.accessAllowed ? 'block' : 'none';\n",
              "    })();\n",
              "  </script>\n",
              "</div>\n",
              "\n",
              "    </div>\n",
              "  </div>\n"
            ],
            "application/vnd.google.colaboratory.intrinsic+json": {
              "type": "dataframe",
              "variable_name": "data"
            }
          },
          "metadata": {},
          "execution_count": 3
        }
      ]
    },
    {
      "cell_type": "code",
      "source": [
        "# Step 1: Data Preprocessing\n",
        "# Handle missing values\n",
        "numeric_columns = data.select_dtypes(include=[np.number]).columns\n",
        "categorical_columns = data.select_dtypes(include=[object]).columns"
      ],
      "metadata": {
        "id": "PlLVLFdQGUBW"
      },
      "execution_count": 4,
      "outputs": []
    },
    {
      "cell_type": "code",
      "source": [
        "data[numeric_columns] = data[numeric_columns].fillna(data[numeric_columns].median())\n",
        "data[categorical_columns] = data[categorical_columns].fillna(data[categorical_columns].mode().iloc[0])"
      ],
      "metadata": {
        "id": "Lc_heGXqGYAO"
      },
      "execution_count": 5,
      "outputs": []
    },
    {
      "cell_type": "code",
      "source": [
        "# Convert date columns to datetime\n",
        "date_columns = ['Ext_agent_app_or_defer_time', 'TFS_Alarm_Time', 'TFS_Arrival_Time']\n",
        "for column in date_columns:\n",
        "    data[column] = pd.to_datetime(data[column], errors='coerce')"
      ],
      "metadata": {
        "id": "ErV1HRkFGZeY"
      },
      "execution_count": 6,
      "outputs": []
    },
    {
      "cell_type": "code",
      "source": [
        "# Feature Engineering\n",
        "data['Year'] = data['TFS_Alarm_Time'].dt.year\n",
        "data['Month'] = data['TFS_Alarm_Time'].dt.month\n",
        "data['DayOfWeek'] = data['TFS_Alarm_Time'].dt.dayofweek\n",
        "data['Hour'] = data['TFS_Alarm_Time'].dt.hour"
      ],
      "metadata": {
        "id": "Lfob5Qv3Gbfo"
      },
      "execution_count": 7,
      "outputs": []
    },
    {
      "cell_type": "code",
      "source": [
        "# One-hot encode categorical variables\n",
        "data = pd.get_dummies(data, drop_first=True)"
      ],
      "metadata": {
        "id": "4goyd6DPGc9A"
      },
      "execution_count": 8,
      "outputs": []
    },
    {
      "cell_type": "code",
      "source": [
        "# Step 2: Post-Incident Analysis\n",
        "# Select a subset of features for the correlation matrix\n",
        "subset_features = ['Year', 'Month', 'DayOfWeek', 'Hour', 'Estimated_Dollar_Loss', 'Civilian_Casualties']\n",
        "subset_data = data[subset_features]"
      ],
      "metadata": {
        "id": "4zaEgvSVGem3"
      },
      "execution_count": 9,
      "outputs": []
    },
    {
      "cell_type": "code",
      "source": [
        "# Correlation Matrix\n",
        "plt.figure(figsize=(10, 6))\n",
        "correlation_matrix = subset_data.corr()\n",
        "sns.heatmap(correlation_matrix, annot=True, cmap='coolwarm', fmt=\".2f\")\n",
        "plt.title('Correlation Matrix')\n",
        "plt.show()"
      ],
      "metadata": {
        "colab": {
          "base_uri": "https://localhost:8080/",
          "height": 686
        },
        "id": "KPy8oi3sGgEU",
        "outputId": "cab3ead8-137c-42e1-97e1-9a3f98bfc1b8"
      },
      "execution_count": 10,
      "outputs": [
        {
          "output_type": "display_data",
          "data": {
            "text/plain": [
              "<Figure size 1000x600 with 2 Axes>"
            ],
            "image/png": "[encoded data removed]"
          },
          "metadata": {}
        }
      ]
    },
    {
      "cell_type": "code",
      "source": [
        "# Feature Importance using Random Forest\n",
        "X = data.drop(['Civilian_Casualties'], axis=1)\n",
        "y = data['Civilian_Casualties']"
      ],
      "metadata": {
        "id": "FR3P16dOGhe9"
      },
      "execution_count": 11,
      "outputs": []
    },
    {
      "cell_type": "code",
      "source": [
        "# Ensure only numeric columns are included for scaling\n",
        "numeric_X = X.select_dtypes(include=[np.number])"
      ],
      "metadata": {
        "id": "xOaQbh1PGjj5"
      },
      "execution_count": 12,
      "outputs": []
    },
    {
      "cell_type": "code",
      "source": [
        "X_train, X_test, y_train, y_test = train_test_split(numeric_X, y, test_size=0.2, random_state=42)"
      ],
      "metadata": {
        "id": "33GsrAFdGlB_"
      },
      "execution_count": 13,
      "outputs": []
    },
    {
      "cell_type": "code",
      "source": [
        "# Scaling the features\n",
        "scaler = StandardScaler()\n",
        "X_train = scaler.fit_transform(X_train)\n",
        "X_test = scaler.transform(X_test)"
      ],
      "metadata": {
        "id": "dqTKjQ6qGmpR"
      },
      "execution_count": null,
      "outputs": []
    },
    {
      "cell_type": "code",
      "source": [
        "# Random Forest Classifier with Hyperparameter Tuning\n",
        "param_grid = {\n",
        "    'n_estimators': [100, 200],\n",
        "    'max_depth': [10, 20, None],\n",
        "    'min_samples_split': [2, 5, 10]\n",
        "}\n",
        "rf = RandomForestClassifier(random_state=42)\n",
        "grid_search = GridSearchCV(estimator=rf, param_grid=param_grid, cv=5, n_jobs=-1, verbose=2)\n",
        "grid_search.fit(X_train, y_train)\n",
        "\n",
        "best_rf = grid_search.best_estimator_"
      ],
      "metadata": {
        "colab": {
          "base_uri": "https://localhost:8080/"
        },
        "id": "kw-7CJb6GoS7",
        "outputId": "b4220acd-2d28-43ff-b90b-999f1a183780"
      },
      "execution_count": 15,
      "outputs": [
        {
          "output_type": "stream",
          "name": "stdout",
          "text": [
            "Fitting 5 folds for each of 18 candidates, totalling 90 fits\n"
          ]
        },
        {
          "output_type": "stream",
          "name": "stderr",
          "text": [
            "/usr/local/lib/python3.10/dist-packages/sklearn/model_selection/_split.py:700: UserWarning: The least populated class in y has only 1 members, which is less than n_splits=5.\n",
            "  warnings.warn(\n"
          ]
        }
      ]
    },
    {
      "cell_type": "code",
      "source": [
        "# Feature Importance\n",
        "importances = best_rf.feature_importances_\n",
        "indices = np.argsort(importances)[::-1]\n",
        "\n",
        "plt.figure(figsize=(12, 8))\n",
        "plt.title('Feature Importances')\n",
        "plt.bar(range(numeric_X.shape[1]), importances[indices], align='center')\n",
        "plt.xticks(range(numeric_X.shape[1]), numeric_X.columns[indices], rotation=90)\n",
        "plt.tight_layout()\n",
        "plt.show()"
      ],
      "metadata": {
        "colab": {
          "base_uri": "https://localhost:8080/",
          "height": 807
        },
        "id": "vjm5TDNaG2Rp",
        "outputId": "40b950d3-f771-47cb-d2f0-71a8171c6655"
      },
      "execution_count": 16,
      "outputs": [
        {
          "output_type": "display_data",
          "data": {
            "text/plain": [
              "<Figure size 1200x800 with 1 Axes>"
            ],
            "image/png": "[encoded data removed]"
          },
          "metadata": {}
        }
      ]
    },
    {
      "cell_type": "code",
      "source": [
        "# Step 3: Predictive Maintenance\n",
        "# Predicting potential equipment failures\n",
        "data['High_Dollar_Loss'] = data['Estimated_Dollar_Loss'] > data['Estimated_Dollar_Loss'].median()"
      ],
      "metadata": {
        "id": "YXuMbm90Holx"
      },
      "execution_count": 17,
      "outputs": []
    },
    {
      "cell_type": "code",
      "source": [
        "# Update the features to include High_Dollar_Loss prediction\n",
        "X = data.drop(['High_Dollar_Loss', 'Civilian_Casualties'], axis=1)\n",
        "numeric_X = X.select_dtypes(include=[np.number])\n",
        "y = data['High_Dollar_Loss']"
      ],
      "metadata": {
        "id": "O03CdXCSHtA2"
      },
      "execution_count": 18,
      "outputs": []
    },
    {
      "cell_type": "code",
      "source": [
        "# Splitting the data\n",
        "X_train, X_test, y_train, y_test = train_test_split(numeric_X, y, test_size=0.2, random_state=42)"
      ],
      "metadata": {
        "id": "5xWWt83RHuuh"
      },
      "execution_count": 19,
      "outputs": []
    },
    {
      "cell_type": "code",
      "source": [
        "# Scaling the features\n",
        "X_train = scaler.fit_transform(X_train)\n",
        "X_test = scaler.transform(X_test)"
      ],
      "metadata": {
        "id": "_fCDqIEUHwKi"
      },
      "execution_count": 20,
      "outputs": []
    },
    {
      "cell_type": "code",
      "source": [
        "# Random Forest Classifier\n",
        "best_rf.fit(X_train, y_train)"
      ],
      "metadata": {
        "colab": {
          "base_uri": "https://localhost:8080/",
          "height": 74
        },
        "id": "ypD9UigQHxjk",
        "outputId": "2d7919ca-f66a-4bb6-e743-6b2c21722be1"
      },
      "execution_count": 21,
      "outputs": [
        {
          "output_type": "execute_result",
          "data": {
            "text/plain": [
              "RandomForestClassifier(n_estimators=200, random_state=42)"
            ],
            "text/html": [
              "<style>#sk-container-id-1 {color: black;background-color: white;}#sk-container-id-1 pre{padding: 0;}#sk-container-id-1 div.sk-toggleable {background-color: white;}#sk-container-id-1 label.sk-toggleable__label {cursor: pointer;display: block;width: 100%;margin-bottom: 0;padding: 0.3em;box-sizing: border-box;text-align: center;}#sk-container-id-1 label.sk-toggleable__label-arrow:before {content: \"▸\";float: left;margin-right: 0.25em;color: #696969;}#sk-container-id-1 label.sk-toggleable__label-arrow:hover:before {color: black;}#sk-container-id-1 div.sk-estimator:hover label.sk-toggleable__label-arrow:before {color: black;}#sk-container-id-1 div.sk-toggleable__content {max-height: 0;max-width: 0;overflow: hidden;text-align: left;background-color: #f0f8ff;}#sk-container-id-1 div.sk-toggleable__content pre {margin: 0.2em;color: black;border-radius: 0.25em;background-color: #f0f8ff;}#sk-container-id-1 input.sk-toggleable__control:checked~div.sk-toggleable__content {max-height: 200px;max-width: 100%;overflow: auto;}#sk-container-id-1 input.sk-toggleable__control:checked~label.sk-toggleable__label-arrow:before {content: \"▾\";}#sk-container-id-1 div.sk-estimator input.sk-toggleable__control:checked~label.sk-toggleable__label {background-color: #d4ebff;}#sk-container-id-1 div.sk-label input.sk-toggleable__control:checked~label.sk-toggleable__label {background-color: #d4ebff;}#sk-container-id-1 input.sk-hidden--visually {border: 0;clip: rect(1px 1px 1px 1px);clip: rect(1px, 1px, 1px, 1px);height: 1px;margin: -1px;overflow: hidden;padding: 0;position: absolute;width: 1px;}#sk-container-id-1 div.sk-estimator {font-family: monospace;background-color: #f0f8ff;border: 1px dotted black;border-radius: 0.25em;box-sizing: border-box;margin-bottom: 0.5em;}#sk-container-id-1 div.sk-estimator:hover {background-color: #d4ebff;}#sk-container-id-1 div.sk-parallel-item::after {content: \"\";width: 100%;border-bottom: 1px solid gray;flex-grow: 1;}#sk-container-id-1 div.sk-label:hover label.sk-toggleable__label {background-color: #d4ebff;}#sk-container-id-1 div.sk-serial::before {content: \"\";position: absolute;border-left: 1px solid gray;box-sizing: border-box;top: 0;bottom: 0;left: 50%;z-index: 0;}#sk-container-id-1 div.sk-serial {display: flex;flex-direction: column;align-items: center;background-color: white;padding-right: 0.2em;padding-left: 0.2em;position: relative;}#sk-container-id-1 div.sk-item {position: relative;z-index: 1;}#sk-container-id-1 div.sk-parallel {display: flex;align-items: stretch;justify-content: center;background-color: white;position: relative;}#sk-container-id-1 div.sk-item::before, #sk-container-id-1 div.sk-parallel-item::before {content: \"\";position: absolute;border-left: 1px solid gray;box-sizing: border-box;top: 0;bottom: 0;left: 50%;z-index: -1;}#sk-container-id-1 div.sk-parallel-item {display: flex;flex-direction: column;z-index: 1;position: relative;background-color: white;}#sk-container-id-1 div.sk-parallel-item:first-child::after {align-self: flex-end;width: 50%;}#sk-container-id-1 div.sk-parallel-item:last-child::after {align-self: flex-start;width: 50%;}#sk-container-id-1 div.sk-parallel-item:only-child::after {width: 0;}#sk-container-id-1 div.sk-dashed-wrapped {border: 1px dashed gray;margin: 0 0.4em 0.5em 0.4em;box-sizing: border-box;padding-bottom: 0.4em;background-color: white;}#sk-container-id-1 div.sk-label label {font-family: monospace;font-weight: bold;display: inline-block;line-height: 1.2em;}#sk-container-id-1 div.sk-label-container {text-align: center;}#sk-container-id-1 div.sk-container {/* jupyter's `normalize.less` sets `[hidden] { display: none; }` but bootstrap.min.css set `[hidden] { display: none !important; }` so we also need the `!important` here to be able to override the default hidden behavior on the sphinx rendered scikit-learn.org. See: https://github.com/scikit-learn/scikit-learn/issues/21755 */display: inline-block !important;position: relative;}#sk-container-id-1 div.sk-text-repr-fallback {display: none;}</style><div id=\"sk-container-id-1\" class=\"sk-top-container\"><div class=\"sk-text-repr-fallback\"><pre>RandomForestClassifier(n_estimators=200, random_state=42)</pre><b>In a Jupyter environment, please rerun this cell to show the HTML representation or trust the notebook. <br />On GitHub, the HTML representation is unable to render, please try loading this page with nbviewer.org.</b></div><div class=\"sk-container\" hidden><div class=\"sk-item\"><div class=\"sk-estimator sk-toggleable\"><input class=\"sk-toggleable__control sk-hidden--visually\" id=\"sk-estimator-id-1\" type=\"checkbox\" checked><label for=\"sk-estimator-id-1\" class=\"sk-toggleable__label sk-toggleable__label-arrow\">RandomForestClassifier</label><div class=\"sk-toggleable__content\"><pre>RandomForestClassifier(n_estimators=200, random_state=42)</pre></div></div></div></div></div>"
            ]
          },
          "metadata": {},
          "execution_count": 21
        }
      ]
    },
    {
      "cell_type": "code",
      "source": [
        "# Predictions\n",
        "y_pred = best_rf.predict(X_test)"
      ],
      "metadata": {
        "id": "W66ubRcpHzlC"
      },
      "execution_count": 22,
      "outputs": []
    },
    {
      "cell_type": "code",
      "source": [
        "# Evaluation\n",
        "print(classification_report(y_test, y_pred))\n",
        "print(confusion_matrix(y_test, y_pred))\n",
        "roc_auc = roc_auc_score(y_test, best_rf.predict_proba(X_test)[:, 1])\n",
        "print(f'ROC-AUC Score: {roc_auc}')"
      ],
      "metadata": {
        "colab": {
          "base_uri": "https://localhost:8080/"
        },
        "id": "e0HmuXmKH1OZ",
        "outputId": "35913620-268f-4bba-ab5e-7d1c11382205"
      },
      "execution_count": 23,
      "outputs": [
        {
          "output_type": "stream",
          "name": "stdout",
          "text": [
            "              precision    recall  f1-score   support\n",
            "\n",
            "       False       1.00      1.00      1.00      1119\n",
            "        True       1.00      1.00      1.00      1124\n",
            "\n",
            "    accuracy                           1.00      2243\n",
            "   macro avg       1.00      1.00      1.00      2243\n",
            "weighted avg       1.00      1.00      1.00      2243\n",
            "\n",
            "[[1119    0]\n",
            " [   0 1124]]\n",
            "ROC-AUC Score: 1.0\n"
          ]
        }
      ]
    },
    {
      "cell_type": "code",
      "source": [
        "# SHAP for Feature Importance\n",
        "explainer = shap.TreeExplainer(best_rf)\n",
        "shap_values = explainer.shap_values(X_test)\n",
        "shap.summary_plot(shap_values, X_test, plot_type=\"bar\")"
      ],
      "metadata": {
        "colab": {
          "base_uri": "https://localhost:8080/",
          "height": 697
        },
        "id": "o3ezv0BLH2uV",
        "outputId": "de849a75-3e5d-4261-dedd-080ad56bb270"
      },
      "execution_count": 24,
      "outputs": [
        {
          "output_type": "display_data",
          "data": {
            "text/plain": [
              "<Figure size 1150x660 with 2 Axes>"
            ],
            "image/png": "[encoded data removed]"
          },
          "metadata": {}
        }
      ]
    },
    {
      "cell_type": "code",
      "source": [
        "from sklearn.model_selection import cross_val_score\n",
        "\n",
        "# Perform cross-validation\n",
        "cv_scores = cross_val_score(best_rf, X_train, y_train, cv=5, scoring='roc_auc')\n",
        "print(f'Cross-Validation ROC-AUC Scores: {cv_scores}')\n",
        "print(f'Mean ROC-AUC Score: {cv_scores.mean()}')\n",
        "\n",
        "# Feature Importance Review\n",
        "importances = best_rf.feature_importances_\n",
        "indices = np.argsort(importances)[::-1]\n",
        "important_features = numeric_X.columns[indices]\n",
        "\n",
        "print(\"Top 10 Important Features:\")\n",
        "for i in range(10):\n",
        "    print(f\"{important_features[i]}: {importances[indices[i]]:.4f}\")\n"
      ],
      "metadata": {
        "colab": {
          "base_uri": "https://localhost:8080/"
        },
        "id": "ZiG5QnxNH8l1",
        "outputId": "fc831bbc-2762-4ad8-a691-f0cb59d0f1f4"
      },
      "execution_count": 25,
      "outputs": [
        {
          "output_type": "stream",
          "name": "stdout",
          "text": [
            "Cross-Validation ROC-AUC Scores: [1. 1. 1. 1. 1.]\n",
            "Mean ROC-AUC Score: 1.0\n",
            "Top 10 Important Features:\n",
            "Estimated_Dollar_Loss: 0.8581\n",
            "Estimated_Number_Of_Persons_Displaced: 0.1020\n",
            "Latitude: 0.0093\n",
            "Longitude: 0.0084\n",
            "Hour: 0.0043\n",
            "Incident_Ward: 0.0043\n",
            "Incident_Station_Area: 0.0040\n",
            "Year: 0.0030\n",
            "Month: 0.0027\n",
            "DayOfWeek: 0.0021\n"
          ]
        }
      ]
    },
    {
      "cell_type": "code",
      "source": [],
      "metadata": {
        "id": "alZ54xg5IpoM"
      },
      "execution_count": null,
      "outputs": []
    }
  ]
}