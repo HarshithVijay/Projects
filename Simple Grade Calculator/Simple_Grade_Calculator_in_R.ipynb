{
  "nbformat": 4,
  "nbformat_minor": 0,
  "metadata": {
    "colab": {
      "provenance": []
    },
    "kernelspec": {
      "name": "ir",
      "display_name": "R"
    },
    "language_info": {
      "name": "R"
    }
  },
  "cells": [
    {
      "cell_type": "code",
      "execution_count": 2,
      "metadata": {
        "id": "eJkKeiQgzk9T"
      },
      "outputs": [],
      "source": [
        "# Function to calculate overall grade\n",
        "calculate_grade <- function(quiz_score, exam_score, homework_score) {\n",
        "  # Define weights for each assignment\n",
        "  quiz_weight <- 0.2\n",
        "  exam_weight <- 0.5\n",
        "  homework_weight <- 0.3\n",
        "  # Calculate overall grade\n",
        "  overall_grade <- (quiz_score * quiz_weight) + (exam_score * exam_weight) + (homework_score * homework_weight)\n",
        "\n",
        "  return(overall_grade)\n",
        "}"
      ]
    },
    {
      "cell_type": "code",
      "source": [
        "# Function to take input from user\n",
        "get_user_input <- function() {\n",
        "  quiz_score <- as.numeric(readline(\"Enter quiz score (out of 100): \"))\n",
        "  exam_score <- as.numeric(readline(\"Enter exam score (out of 100): \"))\n",
        "  homework_score <- as.numeric(readline(\"Enter homework score (out of 100): \"))\n",
        "\n",
        "  return(list(quiz_score, exam_score, homework_score))\n",
        "}"
      ],
      "metadata": {
        "id": "kvDciEdCz39I"
      },
      "execution_count": 3,
      "outputs": []
    },
    {
      "cell_type": "code",
      "source": [
        "# Main function\n",
        "main <- function() {\n",
        "  cat(\"=== Grade Calculator ===\\n\")\n",
        "  input <- get_user_input()\n",
        "  overall_grade <- calculate_grade(input[[1]], input[[2]], input[[3]])\n",
        "  cat(\"Overall grade:\", overall_grade, \"\\n\")\n",
        "}\n",
        "\n",
        "# Run the main function\n",
        "main()"
      ],
      "metadata": {
        "colab": {
          "base_uri": "https://localhost:8080/"
        },
        "id": "LYFvlnjrz_9y",
        "outputId": "d68afadf-f125-4f13-8a69-443b9f4fd555"
      },
      "execution_count": 5,
      "outputs": [
        {
          "output_type": "stream",
          "name": "stdout",
          "text": [
            "Enter quiz score (out of 100): 80\n",
            "Enter exam score (out of 100): 65\n",
            "Enter homework score (out of 100): 80\n",
            "=== Grade Calculator ===\n",
            "Overall grade: 72.5 \n"
          ]
        }
      ]
    },
    {
      "cell_type": "code",
      "source": [],
      "metadata": {
        "id": "GedXZeB20CJH"
      },
      "execution_count": null,
      "outputs": []
    }
  ]
}